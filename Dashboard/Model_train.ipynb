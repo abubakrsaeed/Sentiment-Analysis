{
 "cells": [
  {
   "cell_type": "code",
   "execution_count": 14,
   "id": "b661b89f",
   "metadata": {},
   "outputs": [],
   "source": [
    "from sklearn.feature_selection import SelectFromModel,SelectPercentile\n",
    "from sklearn.metrics import classification_report\n",
    "\n",
    "\n",
    "import pandas as pd\n",
    "from sklearn.model_selection import train_test_split\n",
    "from sklearn.feature_extraction.text import TfidfVectorizer\n",
    "\n",
    "from sklearn.pipeline import Pipeline\n",
    "import seaborn as sns\n",
    "import joblib,pickle\n",
    "\n",
    "from sklearn.svm import LinearSVC\n",
    "from sklearn.metrics import accuracy_score"
   ]
  },
  {
   "cell_type": "code",
   "execution_count": 6,
   "id": "01cde894",
   "metadata": {},
   "outputs": [
    {
     "name": "stdout",
     "output_type": "stream",
     "text": [
      "accuracy_score:  0.4417769067450596\n",
      "classification_error:  0.5582230932549404\n"
     ]
    }
   ],
   "source": [
    "gfinal1 = pd.read_csv('sentiment1.csv')\n",
    "\n",
    "X = gfinal1['review'].values.astype('U')\n",
    "y = gfinal1['sentiment'].values.astype('U')\n",
    "\n",
    "\n",
    "\n",
    "X_train, X_test, y_train, y_test = train_test_split(X, y, test_size=.2, random_state=10)\n",
    "#X_train, y_train = sm.fit_resample(X_train, y_train)\n",
    "text_clf1=Pipeline([#('smote',sm),\n",
    "                    ('tfidf',TfidfVectorizer()),\n",
    "                    \n",
    "                    #('feature_reduction', SelectKBest(k=3000)),\n",
    "                   ('feature_reduction', SelectPercentile(percentile=80)),\n",
    "                    #('feature_selection', SelectFromModel(LinearSVC(tol=1e-3,penalty=\"l1\",dual=False))),\n",
    "                    ('clf',LinearSVC())])\n",
    "text_clf1.fit(X_train,y_train)\n",
    "y_pred=text_clf1.predict(X_test)\n",
    "# ('feature_selection', SelectFromModel(LinearSVC(penalty=\"l2\"))),\n",
    "\n",
    "print(\"accuracy_score: \",accuracy_score(y_test,y_pred))\n",
    "print(\"classification_error: \",1-accuracy_score(y_test,y_pred))"
   ]
  },
  {
   "cell_type": "code",
   "execution_count": 7,
   "id": "d146de29",
   "metadata": {},
   "outputs": [
    {
     "data": {
      "text/plain": [
       "['tf-idf_svm.pkl']"
      ]
     },
     "execution_count": 7,
     "metadata": {},
     "output_type": "execute_result"
    }
   ],
   "source": [
    "#joblib.dump(text_clf1, 'tf-idf_svm.pkl')"
   ]
  },
  {
   "cell_type": "code",
   "execution_count": 2,
   "id": "d2b7d8db",
   "metadata": {},
   "outputs": [],
   "source": [
    "from sklearn.calibration import CalibrationDisplay\n",
    "from sklearn.ensemble import RandomForestClassifier\n",
    "from sklearn.linear_model import LogisticRegression\n",
    "from sklearn.naive_bayes import GaussianNB\n",
    "\n",
    "\n",
    "#if you get error please install dependencies with following command\n",
    "#!pip install -U matplotlib\n",
    "#!pip install -U seaborn\n",
    "%matplotlib inline\n",
    "import re\n",
    "import matplotlib\n",
    "import numpy as np\n",
    "import matplotlib.pyplot as plt\n",
    "import pandas as pd\n",
    "from sklearn.model_selection import train_test_split\n",
    "from sklearn.feature_extraction.text import TfidfVectorizer\n",
    "from sklearn.naive_bayes import MultinomialNB\n",
    "from sklearn.metrics import accuracy_score\n",
    "from sklearn.multiclass import OneVsRestClassifier\n",
    "from nltk.corpus import stopwords\n",
    "from sklearn.svm import LinearSVC\n",
    "from sklearn.linear_model import LogisticRegression\n",
    "from sklearn.pipeline import Pipeline\n",
    "import seaborn as sns\n",
    "import re"
   ]
  },
  {
   "cell_type": "code",
   "execution_count": 6,
   "id": "a4fe0860",
   "metadata": {},
   "outputs": [],
   "source": [
    "#please place the stopwordlist.txt into the same folder where you run this code\n",
    "f=open('stopwordlist.txt',encoding='utf-8')\n",
    "stop_word=[a.replace('\\n','') for a in f.readlines()]\n",
    "\n",
    "def cleanise(txt):\n",
    "  #sentence = Sentence(txt)\n",
    "  #txt = str(spellChecker.spellCheck(sentence))\n",
    "  txt=txt.replace(\"İ\",\"i\");\n",
    "  txt=txt.replace(\"I\",\"ı\");\n",
    "  txt=txt.lower()\n",
    "  txt = re.sub(r'[^\\w\\s]', ' ', txt)\n",
    "  txt = ''.join(ch for ch in txt if (ch.isalnum() or ch==' '))\n",
    "  txt=txt.replace(\"  \",\" \")\n",
    "  txt=txt.replace(\"\\t\",\" \")\n",
    "  txt=txt.replace(\"\\n\",\"\")\n",
    "  newtxt=\"\"\n",
    "  for s in txt.split(\" \"):\n",
    "    if s not in stop_word:\n",
    "      newtxt=newtxt+s+\" \"\n",
    "  newtxt=newtxt.strip()\n",
    "  return newtxt"
   ]
  },
  {
   "cell_type": "code",
   "execution_count": 7,
   "id": "33da802f",
   "metadata": {},
   "outputs": [
    {
     "data": {
      "text/plain": [
       "'hju'"
      ]
     },
     "execution_count": 7,
     "metadata": {},
     "output_type": "execute_result"
    }
   ],
   "source": [
    "a = \"hju\"\n",
    "cleanise(a)"
   ]
  },
  {
   "cell_type": "code",
   "execution_count": 157,
   "id": "bb50d2f4",
   "metadata": {},
   "outputs": [],
   "source": [
    "#classifier = joblib.load('model_svm_tfidf_sentence.pkl')\n",
    "#classifier1 = joblib.load('model.pkl')\n",
    "\n",
    "\"\"\"def prediction(text):\n",
    "    text= [cleanise(text)]\n",
    "    pred =classifier.predict(text)\n",
    "    return pred\"\"\"\n",
    "\n",
    "\n",
    "category = [\"VeryBad\",\"Bad\",\"NotGood\",\"NotBad\",\"Good\",\"VeryGood\"]\n",
    "\n",
    "\n",
    "text = 'patlama'\n",
    "#text= 'eleÅŸtirilecek taraf bulamÄ±yorum gayet gÃ¼zel filmdi eÄŸlenceli hemde aksiyon doluydu heleki venom kavgasÄ± ilginÃ§ti didiÅŸmeleri saymÄ±yorum komiklerdi izleyin filmi gerÃ§ekten gÃ¼zeldi'\n",
    "text = cleanise(text)\n",
    "s1 = ([text])\n",
    "\n"
   ]
  },
  {
   "cell_type": "code",
   "execution_count": 158,
   "id": "429baf0d",
   "metadata": {},
   "outputs": [
    {
     "name": "stderr",
     "output_type": "stream",
     "text": [
      "C:\\Users\\60112\\AppData\\Local\\Temp\\ipykernel_17864\\378283246.py:3: DeprecationWarning: Please use `csr_matrix` from the `scipy.sparse` namespace, the `scipy.sparse.csr` namespace is deprecated.\n",
      "  model = pickle.load(open(\"model_svm_tfidf_parag_\"+ cat +\".pkl\",'rb'))\n"
     ]
    },
    {
     "data": {
      "text/plain": [
       "{'VeryBad': array([0], dtype=int64),\n",
       " 'Bad': array([0], dtype=int64),\n",
       " 'NotGood': array([0], dtype=int64),\n",
       " 'NotBad': array([0], dtype=int64),\n",
       " 'Good': array([0], dtype=int64),\n",
       " 'VeryGood': array([0], dtype=int64)}"
      ]
     },
     "execution_count": 158,
     "metadata": {},
     "output_type": "execute_result"
    }
   ],
   "source": [
    "Dict = {}\n",
    "for cat in category:\n",
    "    model = pickle.load(open(\"model_svm_tfidf_parag_\"+ cat +\".pkl\",'rb'))\n",
    "    result = model.predict(s1)\n",
    "    Dict[cat] = result\n",
    "    #print(f'cat:{cat} result: {result}')\n",
    "    \n",
    "Dict"
   ]
  },
  {
   "cell_type": "code",
   "execution_count": 154,
   "id": "bf3ccf8d",
   "metadata": {},
   "outputs": [
    {
     "data": {
      "text/plain": [
       "array(['Good'], dtype='<U9')"
      ]
     },
     "execution_count": 154,
     "metadata": {},
     "output_type": "execute_result"
    }
   ],
   "source": [
    "classifier = joblib.load('tf-idf_svm.pkl')\n",
    "res = classifier.predict(s1)\n",
    "res"
   ]
  },
  {
   "cell_type": "code",
   "execution_count": 110,
   "id": "7975815c",
   "metadata": {},
   "outputs": [],
   "source": []
  },
  {
   "cell_type": "code",
   "execution_count": 155,
   "id": "25ded91d",
   "metadata": {},
   "outputs": [],
   "source": [
    "sent.append(\"hi\")"
   ]
  },
  {
   "cell_type": "code",
   "execution_count": 156,
   "id": "e17443ff",
   "metadata": {},
   "outputs": [
    {
     "data": {
      "text/plain": [
       "[array(['Not Good'], dtype='<U9'), 'hi']"
      ]
     },
     "execution_count": 156,
     "metadata": {},
     "output_type": "execute_result"
    }
   ],
   "source": [
    "sent"
   ]
  },
  {
   "cell_type": "code",
   "execution_count": null,
   "id": "66adb461",
   "metadata": {},
   "outputs": [],
   "source": [
    "sent = []\n",
    "for key in list(Dict.keys()):  # Use a list instead of a view\n",
    "    if Dict[key] == 1:\n",
    "        sent.append(key)\n",
    "    sent.append(\"\")\n",
    "    if (len(sent) == 0):\n",
    "        res=classifier.predict(s1)\n",
    "        sent.append(res)"
   ]
  }
 ],
 "metadata": {
  "kernelspec": {
   "display_name": "Python 3 (ipykernel)",
   "language": "python",
   "name": "python3"
  },
  "language_info": {
   "codemirror_mode": {
    "name": "ipython",
    "version": 3
   },
   "file_extension": ".py",
   "mimetype": "text/x-python",
   "name": "python",
   "nbconvert_exporter": "python",
   "pygments_lexer": "ipython3",
   "version": "3.9.7"
  }
 },
 "nbformat": 4,
 "nbformat_minor": 5
}
